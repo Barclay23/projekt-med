{
 "cells": [
  {
   "cell_type": "markdown",
   "metadata": {},
   "source": [
    "\n",
    "## MED 4 \n",
    "\n",
    "# Regresja wieloraka"
   ]
  },
  {
   "cell_type": "markdown",
   "metadata": {},
   "source": [
    "Prognozowanie cen domów (wiele zmiennych)\n",
    "\n",
    "W tym notatniku wykorzystamy dane dotyczące sprzedaży domów. Przewidywanie ich ceny zostanie dokonane przy pomocy regresji wielorakiej. Pierwsze zadanie dotyczy eksploracji regresji wielorakiej poprzez opracowanie nowych cech i pomiar błędu. W drugim zadaniu zaimplementować należy algorytm spadku gradientu.\n",
    "\n",
    "     Użyj wbudowanych funkcji tworzenia wykresów (lub w inny sposób), aby obliczyć wagi regresji (współczynniki)\n",
    "     Biorąc pod uwagę wagi regresji, predyktory i wynik napisz funkcję obliczającą resztkową sumę kwadratów.\n",
    "     Spójrz na współczynniki i zinterpretuj ich znaczenie.\n",
    "     Oceń wiele modeli za pomocą RSS."
   ]
  },
  {
   "cell_type": "markdown",
   "metadata": {},
   "source": [
    "# Potrzebne biblioteki"
   ]
  },
  {
   "cell_type": "code",
   "execution_count": 1,
   "metadata": {},
   "outputs": [],
   "source": [
    "import pandas as pd\n",
    "import numpy as np"
   ]
  },
  {
   "cell_type": "markdown",
   "metadata": {},
   "source": [
    "# Wczytanie danych ceny domów \n",
    "\n",
    "Zestaw danych pochodzi ze sprzedaży domów w King County, regionie, w którym znajduje się miasto Seattle w stanie Waszyngton."
   ]
  },
  {
   "cell_type": "code",
   "execution_count": 2,
   "metadata": {
    "scrolled": true
   },
   "outputs": [],
   "source": [
    "dtype_dict = {'bathrooms':float, 'waterfront':int, 'sqft_above':int, 'sqft_living15':float, 'grade':int, 'yr_renovated':int, 'price':float, 'bedrooms':float, 'zipcode':str, 'long':float, 'sqft_lot15':float, 'sqft_living':float, 'floors':str, 'condition':int, 'lat':float, 'date':str, 'sqft_basement':int, 'yr_built':int, 'id':str, 'sqft_lot':int, 'view':int}\n",
    "domy = pd.read_csv('kc_house_data.csv',sep=',', dtype=dtype_dict)"
   ]
  },
  {
   "cell_type": "code",
   "execution_count": 3,
   "metadata": {},
   "outputs": [
    {
     "data": {
      "text/html": [
       "<div>\n",
       "<style scoped>\n",
       "    .dataframe tbody tr th:only-of-type {\n",
       "        vertical-align: middle;\n",
       "    }\n",
       "\n",
       "    .dataframe tbody tr th {\n",
       "        vertical-align: top;\n",
       "    }\n",
       "\n",
       "    .dataframe thead th {\n",
       "        text-align: right;\n",
       "    }\n",
       "</style>\n",
       "<table border=\"1\" class=\"dataframe\">\n",
       "  <thead>\n",
       "    <tr style=\"text-align: right;\">\n",
       "      <th></th>\n",
       "      <th>id</th>\n",
       "      <th>date</th>\n",
       "      <th>price</th>\n",
       "      <th>bedrooms</th>\n",
       "      <th>bathrooms</th>\n",
       "      <th>sqft_living</th>\n",
       "      <th>sqft_lot</th>\n",
       "      <th>floors</th>\n",
       "      <th>waterfront</th>\n",
       "      <th>view</th>\n",
       "      <th>...</th>\n",
       "      <th>grade</th>\n",
       "      <th>sqft_above</th>\n",
       "      <th>sqft_basement</th>\n",
       "      <th>yr_built</th>\n",
       "      <th>yr_renovated</th>\n",
       "      <th>zipcode</th>\n",
       "      <th>lat</th>\n",
       "      <th>long</th>\n",
       "      <th>sqft_living15</th>\n",
       "      <th>sqft_lot15</th>\n",
       "    </tr>\n",
       "  </thead>\n",
       "  <tbody>\n",
       "    <tr>\n",
       "      <th>0</th>\n",
       "      <td>7129300520</td>\n",
       "      <td>20141013T000000</td>\n",
       "      <td>221900.0</td>\n",
       "      <td>3.0</td>\n",
       "      <td>1.00</td>\n",
       "      <td>1180.0</td>\n",
       "      <td>5650</td>\n",
       "      <td>1</td>\n",
       "      <td>0</td>\n",
       "      <td>0</td>\n",
       "      <td>...</td>\n",
       "      <td>7</td>\n",
       "      <td>1180</td>\n",
       "      <td>0</td>\n",
       "      <td>1955</td>\n",
       "      <td>0</td>\n",
       "      <td>98178</td>\n",
       "      <td>47.5112</td>\n",
       "      <td>-122.257</td>\n",
       "      <td>1340.0</td>\n",
       "      <td>5650.0</td>\n",
       "    </tr>\n",
       "    <tr>\n",
       "      <th>1</th>\n",
       "      <td>6414100192</td>\n",
       "      <td>20141209T000000</td>\n",
       "      <td>538000.0</td>\n",
       "      <td>3.0</td>\n",
       "      <td>2.25</td>\n",
       "      <td>2570.0</td>\n",
       "      <td>7242</td>\n",
       "      <td>2</td>\n",
       "      <td>0</td>\n",
       "      <td>0</td>\n",
       "      <td>...</td>\n",
       "      <td>7</td>\n",
       "      <td>2170</td>\n",
       "      <td>400</td>\n",
       "      <td>1951</td>\n",
       "      <td>1991</td>\n",
       "      <td>98125</td>\n",
       "      <td>47.7210</td>\n",
       "      <td>-122.319</td>\n",
       "      <td>1690.0</td>\n",
       "      <td>7639.0</td>\n",
       "    </tr>\n",
       "    <tr>\n",
       "      <th>2</th>\n",
       "      <td>5631500400</td>\n",
       "      <td>20150225T000000</td>\n",
       "      <td>180000.0</td>\n",
       "      <td>2.0</td>\n",
       "      <td>1.00</td>\n",
       "      <td>770.0</td>\n",
       "      <td>10000</td>\n",
       "      <td>1</td>\n",
       "      <td>0</td>\n",
       "      <td>0</td>\n",
       "      <td>...</td>\n",
       "      <td>6</td>\n",
       "      <td>770</td>\n",
       "      <td>0</td>\n",
       "      <td>1933</td>\n",
       "      <td>0</td>\n",
       "      <td>98028</td>\n",
       "      <td>47.7379</td>\n",
       "      <td>-122.233</td>\n",
       "      <td>2720.0</td>\n",
       "      <td>8062.0</td>\n",
       "    </tr>\n",
       "    <tr>\n",
       "      <th>3</th>\n",
       "      <td>2487200875</td>\n",
       "      <td>20141209T000000</td>\n",
       "      <td>604000.0</td>\n",
       "      <td>4.0</td>\n",
       "      <td>3.00</td>\n",
       "      <td>1960.0</td>\n",
       "      <td>5000</td>\n",
       "      <td>1</td>\n",
       "      <td>0</td>\n",
       "      <td>0</td>\n",
       "      <td>...</td>\n",
       "      <td>7</td>\n",
       "      <td>1050</td>\n",
       "      <td>910</td>\n",
       "      <td>1965</td>\n",
       "      <td>0</td>\n",
       "      <td>98136</td>\n",
       "      <td>47.5208</td>\n",
       "      <td>-122.393</td>\n",
       "      <td>1360.0</td>\n",
       "      <td>5000.0</td>\n",
       "    </tr>\n",
       "    <tr>\n",
       "      <th>4</th>\n",
       "      <td>1954400510</td>\n",
       "      <td>20150218T000000</td>\n",
       "      <td>510000.0</td>\n",
       "      <td>3.0</td>\n",
       "      <td>2.00</td>\n",
       "      <td>1680.0</td>\n",
       "      <td>8080</td>\n",
       "      <td>1</td>\n",
       "      <td>0</td>\n",
       "      <td>0</td>\n",
       "      <td>...</td>\n",
       "      <td>8</td>\n",
       "      <td>1680</td>\n",
       "      <td>0</td>\n",
       "      <td>1987</td>\n",
       "      <td>0</td>\n",
       "      <td>98074</td>\n",
       "      <td>47.6168</td>\n",
       "      <td>-122.045</td>\n",
       "      <td>1800.0</td>\n",
       "      <td>7503.0</td>\n",
       "    </tr>\n",
       "  </tbody>\n",
       "</table>\n",
       "<p>5 rows × 21 columns</p>\n",
       "</div>"
      ],
      "text/plain": [
       "           id             date     price  bedrooms  bathrooms  sqft_living  \\\n",
       "0  7129300520  20141013T000000  221900.0       3.0       1.00       1180.0   \n",
       "1  6414100192  20141209T000000  538000.0       3.0       2.25       2570.0   \n",
       "2  5631500400  20150225T000000  180000.0       2.0       1.00        770.0   \n",
       "3  2487200875  20141209T000000  604000.0       4.0       3.00       1960.0   \n",
       "4  1954400510  20150218T000000  510000.0       3.0       2.00       1680.0   \n",
       "\n",
       "   sqft_lot floors  waterfront  view  ...  grade  sqft_above  sqft_basement  \\\n",
       "0      5650      1           0     0  ...      7        1180              0   \n",
       "1      7242      2           0     0  ...      7        2170            400   \n",
       "2     10000      1           0     0  ...      6         770              0   \n",
       "3      5000      1           0     0  ...      7        1050            910   \n",
       "4      8080      1           0     0  ...      8        1680              0   \n",
       "\n",
       "   yr_built  yr_renovated  zipcode      lat     long  sqft_living15  \\\n",
       "0      1955             0    98178  47.5112 -122.257         1340.0   \n",
       "1      1951          1991    98125  47.7210 -122.319         1690.0   \n",
       "2      1933             0    98028  47.7379 -122.233         2720.0   \n",
       "3      1965             0    98136  47.5208 -122.393         1360.0   \n",
       "4      1987             0    98074  47.6168 -122.045         1800.0   \n",
       "\n",
       "   sqft_lot15  \n",
       "0      5650.0  \n",
       "1      7639.0  \n",
       "2      8062.0  \n",
       "3      5000.0  \n",
       "4      7503.0  \n",
       "\n",
       "[5 rows x 21 columns]"
      ]
     },
     "execution_count": 3,
     "metadata": {},
     "output_type": "execute_result"
    }
   ],
   "source": [
    "domy.head(5)"
   ]
  },
  {
   "cell_type": "code",
   "execution_count": 4,
   "metadata": {},
   "outputs": [
    {
     "data": {
      "text/plain": [
       "<Axes: >"
      ]
     },
     "execution_count": 4,
     "metadata": {},
     "output_type": "execute_result"
    },
    {
     "data": {
      "image/png": "[encoded data removed]",
      "text/plain": [
       "<Figure size 640x480 with 1 Axes>"
      ]
     },
     "metadata": {},
     "output_type": "display_data"
    }
   ],
   "source": [
    "domy.bathrooms.hist()"
   ]
  },
  {
   "cell_type": "markdown",
   "metadata": {},
   "source": [
    "# Podziel dane na uczące i testowe.\n",
    "Używamy seed = 0, aby każdy, kto korzysta z tego notebooka, uzyskał te same wyniki. W praktyce możesz ustawić podział losowy."
   ]
  },
  {
   "cell_type": "code",
   "execution_count": 5,
   "metadata": {},
   "outputs": [
    {
     "data": {
      "text/plain": [
       "array(['id', 'date', 'bedrooms', 'bathrooms', 'sqft_living', 'sqft_lot',\n",
       "       'floors', 'waterfront', 'view', 'condition', 'grade', 'sqft_above',\n",
       "       'sqft_basement', 'yr_built', 'yr_renovated', 'zipcode', 'lat',\n",
       "       'long', 'sqft_living15', 'sqft_lot15'], dtype=object)"
      ]
     },
     "execution_count": 5,
     "metadata": {},
     "output_type": "execute_result"
    }
   ],
   "source": [
    "y = domy['price']\n",
    "X = domy.drop(['price'], axis=1)\n",
    "features = X.columns.values\n",
    "features "
   ]
  },
  {
   "cell_type": "code",
   "execution_count": 6,
   "metadata": {},
   "outputs": [],
   "source": [
    "from sklearn.model_selection import train_test_split\n",
    "X_train, X_test, y_train, y_test = train_test_split(X, y, test_size=0.2, random_state=0)"
   ]
  },
  {
   "cell_type": "markdown",
   "metadata": {},
   "source": [
    "# Nauka modelu regresji wielorakiej"
   ]
  },
  {
   "cell_type": "markdown",
   "metadata": {},
   "source": [
    "Wykorzystując cechy 'sqft_living', 'bedrooms', 'bathrooms' uczymy nasz model."
   ]
  },
  {
   "cell_type": "code",
   "execution_count": 7,
   "metadata": {},
   "outputs": [],
   "source": [
    "example_features = ['sqft_living', 'bedrooms', 'bathrooms']\n",
    "pinw = np.linalg.pinv(X_train[example_features])\n",
    "w = np.dot(pinw,y_train)"
   ]
  },
  {
   "cell_type": "markdown",
   "metadata": {},
   "source": [
    "Po dopasowaniu modelu możemy wyodrębnić współczynniki (wagi) modelu regresji:"
   ]
  },
  {
   "cell_type": "code",
   "execution_count": 8,
   "metadata": {},
   "outputs": [
    {
     "name": "stdout",
     "output_type": "stream",
     "text": [
      "Otrzymane współczynniki: [   308.54966331 -41754.38204544  17354.12106635]\n"
     ]
    }
   ],
   "source": [
    "print('Otrzymane współczynniki:', w)"
   ]
  },
  {
   "cell_type": "markdown",
   "metadata": {},
   "source": [
    "# Przewidywanie wartości modelu\n",
    "\n",
    "Mając wyliczone parametry modelu napisz funkcję do przewidywania wartości dla zadanego modelu"
   ]
  },
  {
   "cell_type": "code",
   "execution_count": 9,
   "metadata": {},
   "outputs": [
    {
     "name": "stdout",
     "output_type": "stream",
     "text": [
      "[ 383748.43603868 1330310.29293091  373818.34187199 ...  337749.69862805\n",
      "  185213.15507236  419805.07408762]\n"
     ]
    }
   ],
   "source": [
    "def predict_output(params, features):\n",
    "    return np.dot(features, params)\n",
    "df = X_test[example_features]\n",
    "predictions = predict_output(w, df)\n",
    "\n",
    "print(predictions)\n",
    "    "
   ]
  },
  {
   "cell_type": "markdown",
   "metadata": {},
   "source": [
    "# Wyliczamy błąd (SSE -  sum of squared estimate of errors)"
   ]
  },
  {
   "cell_type": "markdown",
   "metadata": {},
   "source": [
    "Teraz, gdy możemy wykonać przewidywania na podstawie modelu, napiszmy funkcję obliczającą RSS modelu. Wykonaj poniższą funkcję, aby obliczy sumę kwadratów błędu estymacji (SSE) na podstawie modelu, danych i wyniku."
   ]
  },
  {
   "cell_type": "code",
   "execution_count": 10,
   "metadata": {},
   "outputs": [],
   "source": [
    "def policz_SSE(model, data, outcome):\n",
    "    predictions = predict_output(model, data)\n",
    "    err = np.abs(outcome-predictions)\n",
    "    SSE = 0\n",
    "    for i in err:\n",
    "        SSE+=i*i\n",
    "\n",
    "    return(SSE)    "
   ]
  },
  {
   "cell_type": "markdown",
   "metadata": {},
   "source": [
    "Przetestuj swoją funkcję obliczając błąd SSE z danych TEST dla przykładowego modelu:"
   ]
  },
  {
   "cell_type": "code",
   "execution_count": 11,
   "metadata": {},
   "outputs": [
    {
     "name": "stdout",
     "output_type": "stream",
     "text": [
      "261738485259246.44\n"
     ]
    }
   ],
   "source": [
    "przykladowe_rss = policz_SSE(w, X_test[example_features], y_test)\n",
    "print(przykladowe_rss) "
   ]
  },
  {
   "cell_type": "markdown",
   "metadata": {},
   "source": [
    "# Utwórz nowe cechy"
   ]
  },
  {
   "cell_type": "markdown",
   "metadata": {},
   "source": [
    "Mimo iż nasz model regresji wielorakiej obejmuje wiele różnych cech (np. ilosc_sypiani, powierzchnia i ilosc_lazienek) możemy również rozważyć przekształcenie istniejących cech, np. log(powierzchnia) czy nawet mnożenie ilości sypialni i łazienek."
   ]
  },
  {
   "cell_type": "markdown",
   "metadata": {},
   "source": [
    "Użyjemy funkcji logarytmu, aby utworzyć nowe cechy, więc najpierw importujemy ją z biblioteki matematycznej."
   ]
  },
  {
   "cell_type": "code",
   "execution_count": 12,
   "metadata": {},
   "outputs": [],
   "source": [
    "from math import log"
   ]
  },
  {
   "cell_type": "markdown",
   "metadata": {},
   "source": [
    "Następnie utwórz następujące 4 nowe cechy jako kolumny w danych TRENINGOWYCH i TESTOWYCH:\n",
    "* bedrooms_squared = bedrooms\\*bedrooms\n",
    "* bed_bath_rooms = bedrooms\\*bathrooms\n",
    "* log_sqft_living = log(sqft_living)\n",
    "* lat_plus_long = lat + long \n",
    "\n",
    "Jako przykład oto pierwsza:"
   ]
  },
  {
   "cell_type": "code",
   "execution_count": 13,
   "metadata": {},
   "outputs": [],
   "source": [
    "X_train['bedrooms_squared'] = X_train['bedrooms'].apply(lambda x: x**2)\n",
    "X_test['bedrooms_squared'] = X_test['bedrooms'].apply(lambda x: x**2)"
   ]
  },
  {
   "cell_type": "code",
   "execution_count": 14,
   "metadata": {},
   "outputs": [
    {
     "name": "stdout",
     "output_type": "stream",
     "text": [
      "               id             date  bedrooms  bathrooms  sqft_living  \\\n",
      "17384  1453602313  20141029T000000       2.0       1.50       1430.0   \n",
      "722    2225059214  20140808T000000       4.0       3.25       4670.0   \n",
      "2680   2768000270  20140625T000000       2.0       0.75       1440.0   \n",
      "18754  6819100040  20140624T000000       2.0       1.00       1130.0   \n",
      "14554  4027700666  20150426T000000       4.0       2.50       3180.0   \n",
      "...           ...              ...       ...        ...          ...   \n",
      "5427   3528000545  20140815T000000       4.0       3.25       3090.0   \n",
      "16547  0526059259  20140819T000000       3.0       1.75       1260.0   \n",
      "4585   0339600090  20140925T000000       3.0       2.50       1360.0   \n",
      "17762  7750500120  20141118T000000       3.0       1.00        950.0   \n",
      "16323  0267000170  20141210T000000       3.0       2.25       1640.0   \n",
      "\n",
      "       sqft_lot floors  waterfront  view  condition  ...  yr_renovated  \\\n",
      "17384      1650      3           0     0          3  ...             0   \n",
      "722       51836      2           0     0          4  ...             0   \n",
      "2680       3700      1           0     0          3  ...             0   \n",
      "18754      2640      1           0     0          4  ...             0   \n",
      "14554      9603      2           0     2          3  ...             0   \n",
      "...         ...    ...         ...   ...        ...  ...           ...   \n",
      "5427      67518      2           0     0          3  ...             0   \n",
      "16547      8487      1           0     0          3  ...             0   \n",
      "4585       3718      2           0     0          3  ...             0   \n",
      "17762      4760    1.5           0     0          3  ...             0   \n",
      "16323     12000      1           0     0          3  ...             0   \n",
      "\n",
      "       zipcode      lat     long  sqft_living15 sqft_lot15  bedrooms_squared  \\\n",
      "17384    98125  47.7222 -122.290         1430.0     1650.0               4.0   \n",
      "722      98005  47.6350 -122.164         4230.0    41075.0              16.0   \n",
      "2680     98107  47.6707 -122.364         1440.0     4300.0               4.0   \n",
      "18754    98109  47.6438 -122.357         1680.0     3200.0               4.0   \n",
      "14554    98155  47.7717 -122.277         2440.0    15261.0              16.0   \n",
      "...        ...      ...      ...            ...        ...               ...   \n",
      "5427     98053  47.6674 -122.046         3200.0    65775.0              16.0   \n",
      "16547    98011  47.7664 -122.201         1890.0    13051.0               9.0   \n",
      "4585     98052  47.6827 -122.097         1090.0     3718.0               9.0   \n",
      "17762    98106  47.5236 -122.348         1080.0     4760.0               9.0   \n",
      "16323    98008  47.6252 -122.104         1620.0    12000.0               9.0   \n",
      "\n",
      "       bed_bath_rooms  log_sqft_living  lat_plus_long  \n",
      "17384            3.00         7.265430       -74.5678  \n",
      "722             13.00         8.448914       -74.5290  \n",
      "2680             1.50         7.272398       -74.6933  \n",
      "18754            2.00         7.029973       -74.7132  \n",
      "14554           10.00         8.064636       -74.5053  \n",
      "...               ...              ...            ...  \n",
      "5427            13.00         8.035926       -74.3786  \n",
      "16547            5.25         7.138867       -74.4346  \n",
      "4585             7.50         7.215240       -74.4143  \n",
      "17762            3.00         6.856462       -74.8244  \n",
      "16323            6.75         7.402452       -74.4788  \n",
      "\n",
      "[4323 rows x 24 columns]\n"
     ]
    }
   ],
   "source": [
    "# utwórz pozostałe 3 funkcje zarówno w danych TRENINGOWYCH, jak i TESTOWYCH\n",
    "X_train['bed_bath_rooms'] = X_train['bedrooms']* X_train['bathrooms']\n",
    "X_test['bed_bath_rooms'] = X_test['bedrooms']* X_test['bathrooms']\n",
    "X_train['log_sqft_living'] = X_train['sqft_living'].apply(lambda x: log(x))\n",
    "X_test['log_sqft_living'] = X_test['sqft_living'].apply(lambda x: log(x))\n",
    "X_train['lat_plus_long'] = X_train['lat']+X_train['long']\n",
    "X_test['lat_plus_long'] = X_test['lat']+ X_test['long']\n",
    "print(X_test)"
   ]
  },
  {
   "cell_type": "markdown",
   "metadata": {},
   "source": [
    "* Kwadrat sypialni zwiększa separację między nielicznymi sypialniami (np. 1) i wieloma sypialniami (np. 4), ponieważ 1 ^ 2 = 1, ale 4 ^ 2 = 16. W konsekwencji ta funkcja będzie miała wpływ głównie na domy z wieloma sypialniami.\n",
    "* Sypialnia razy łazienka daje tak zwaną funkcję „interakcji”. Wynik jest wysoki, gdy  wartościu *obu* cech są duże.\n",
    "* Przejęcie logarytmu stóp kwadratowych powoduje zbliżenie dużych wartości i rozłożenie małych wartości. Wynika to z reguły prawoskośności posiadanych danych/posiadanego atrybutu.\n",
    "* Dodawanie szerokości do długości geograficznej jest całkowicie bezsensowne, ale i tak to zrobimy (zobaczymy później dlaczego)"
   ]
  },
  {
   "cell_type": "markdown",
   "metadata": {},
   "source": [
    "**Pytanie quizu: Jaka jest średnia (średnia arytmetyczna) twoich 4 nowych funkcji w danych TEST? (w zaokrągleniu do 2 cyfr)**"
   ]
  },
  {
   "cell_type": "code",
   "execution_count": 15,
   "metadata": {},
   "outputs": [
    {
     "name": "stdout",
     "output_type": "stream",
     "text": [
      "12.21\n",
      "7.45\n",
      "7.55\n",
      "-74.65\n"
     ]
    }
   ],
   "source": [
    "print(round(np.mean(X_test['bedrooms_squared']),2))\n",
    "\n",
    "print(round(np.mean(X_test['bed_bath_rooms']),2))\n",
    "\n",
    "print(round(np.mean(X_test['log_sqft_living']),2)) \n",
    "print(round(np.mean(X_test['lat_plus_long']),2))"
   ]
  },
  {
   "cell_type": "markdown",
   "metadata": {},
   "source": [
    "# Uczenie wielu modeli"
   ]
  },
  {
   "cell_type": "markdown",
   "metadata": {},
   "source": [
    "Teraz poznamy wagi trzech (zagnieżdżonych) modeli do przewidywania cen domów. Pierwszy model będzie miał najmniej cech, drugi model doda jedną cechę, a trzeci doda jeszcze kilka:\n",
    "* Model 1: squarefeet, # bedrooms, # bathrooms, latitude & longitude\n",
    "* Model 2: + bedrooms\\*bathrooms\n",
    "* Model 3: + log squarefeet, bedrooms squared, i (bezsensowne) latitude + longitude"
   ]
  },
  {
   "cell_type": "code",
   "execution_count": 16,
   "metadata": {},
   "outputs": [],
   "source": [
    "model_1_features = ['sqft_living', 'bedrooms', 'bathrooms', 'lat', 'long']\n",
    "model_2_features = model_1_features + ['bed_bath_rooms']\n",
    "model_3_features = model_2_features + ['bedrooms_squared', 'log_sqft_living', 'lat_plus_long']"
   ]
  },
  {
   "cell_type": "markdown",
   "metadata": {},
   "source": [
    "Teraz, gdy mamy już cechy, poznaj wagi trzech różnych modeli do przewidywania docelowej = „ceny” za pomocą funkcji model_train i spójrz na wartość wag/współczynników:"
   ]
  },
  {
   "cell_type": "code",
   "execution_count": 17,
   "metadata": {},
   "outputs": [],
   "source": [
    "# Funkcja szukająca współczynników modelu\n",
    "def model_train(X_train, Y_train):\n",
    "    pinw = np.linalg.pinv(X_train)\n",
    "    model = np.dot(pinw,Y_train)\n",
    "    return(model)"
   ]
  },
  {
   "cell_type": "code",
   "execution_count": 18,
   "metadata": {},
   "outputs": [],
   "source": [
    "# Wyucz 3 modele:\n",
    "model1 = model_train(X_train[model_1_features],y_train)\n",
    "model2 = model_train(X_train[model_2_features],y_train)\n",
    "model3 = model_train(X_train[model_3_features],y_train)\n"
   ]
  },
  {
   "cell_type": "code",
   "execution_count": 19,
   "metadata": {},
   "outputs": [
    {
     "name": "stdout",
     "output_type": "stream",
     "text": [
      "[ 3.00159310e+02 -5.23689819e+04  4.58247068e+03  5.29238529e+05\n",
      "  2.05262847e+05]\n",
      "[ 2.92464746e+02 -1.21761358e+05 -1.09383881e+05  5.30036632e+05\n",
      "  2.03619080e+05  3.35897011e+04]\n",
      "[ 5.55032435e+02  1.34221113e+03  8.84250144e+04  3.03201909e+05\n",
      " -6.29628448e+04 -1.60202196e+04  8.18714827e+02 -6.45602857e+05\n",
      "  2.40239065e+05]\n"
     ]
    }
   ],
   "source": [
    "# Wyświetl wagi współczynników modelu:\n",
    "print(model1)\n",
    "print(model2)\n",
    "print(model3)"
   ]
  },
  {
   "cell_type": "markdown",
   "metadata": {},
   "source": [
    "**Quiz: Jaki jest znak (dodatni lub ujemny) dla współczynnika/wagi dla „łazienek” w modelu 1?**\n",
    "\n",
    "**Quiz: Jaki jest znak (dodatni lub ujemny) dla współczynnika/wagi dla „łazienek” w modelu 2?**\n",
    "\n",
    "Zastanów się, co to znaczy."
   ]
  },
  {
   "cell_type": "markdown",
   "metadata": {},
   "source": [
    "Znak współczynnika dla łazienek w modelu 1 jest dodatni;\n",
    "Znak współczynnika dla łazienek w modelu 2 jest ujemny.\n",
    "W drugiem modelu zawieramy zależność bed_bath_rooms, która uwzględnia w sobie łazienki, zależność ta ma stosunkowo duży współczynnik, a współczynnik przy bathrooms jest stosunkowo niewielki. Oznacza to, że dodanie nowej zależności tak bardzo premiuje łazienki, że ich wpływ na cenę musi być odpowiednio zrównoważony."
   ]
  },
  {
   "cell_type": "markdown",
   "metadata": {},
   "source": [
    "# Porównywanie wielu modeli\n",
    "\n",
    "Teraz, gdy otrzymaliśmy trzy modele i wyodrębniliśmy wagi modeli, chcemy ocenić, który model jest najlepszy."
   ]
  },
  {
   "cell_type": "markdown",
   "metadata": {},
   "source": [
    "Używając wcześniej opisanych funkcji obliczy SSE dla danych uczących dla każdego z trzech modeli."
   ]
  },
  {
   "cell_type": "code",
   "execution_count": 20,
   "metadata": {},
   "outputs": [
    {
     "name": "stdout",
     "output_type": "stream",
     "text": [
      "1082381909711009.6\n",
      "1065791753438920.2\n",
      "991825573399599.8\n"
     ]
    }
   ],
   "source": [
    "# Policz SSE na danych TRENINGOWYCH dla każdeg z 3 modeli i zapisz wartości:\n",
    "przykladowe_rss = policz_SSE(model1, X_train[model_1_features], y_train)\n",
    "print(przykladowe_rss)\n",
    "przykladowe_rss = policz_SSE(model2, X_train[model_2_features], y_train)\n",
    "print(przykladowe_rss) \n",
    "przykladowe_rss = policz_SSE(model3, X_train[model_3_features], y_train)\n",
    "print(przykladowe_rss) \n"
   ]
  },
  {
   "cell_type": "markdown",
   "metadata": {},
   "source": [
    "**Quiz: Który model (1, 2 lub 3) ma najniższy poziom SSE na danych TRENINGOWYCH?** Czy tego się spodziewałeś/-łaś?"
   ]
  },
  {
   "cell_type": "markdown",
   "metadata": {},
   "source": [
    "Zgodnie z przewidywaniami, najmniejszy błąd ma model 3, czego się można było spodziewać, bo bierze pod uwagę najwięcej cech, które są ze sobą sensownie powiązane"
   ]
  },
  {
   "cell_type": "markdown",
   "metadata": {},
   "source": [
    "Teraz obliczyć SSE na danych TEST dla każdego z trzech modeli."
   ]
  },
  {
   "cell_type": "code",
   "execution_count": 21,
   "metadata": {},
   "outputs": [
    {
     "name": "stdout",
     "output_type": "stream",
     "text": [
      "233700269953888.62\n",
      "229575356886060.9\n",
      "221041949402646.5\n"
     ]
    }
   ],
   "source": [
    "# Teraz obliczyć SSE na danych TEST dla każdego z trzech modeli i zapisz wartości:\n",
    "przykladowe_rss = policz_SSE(model1, X_test[model_1_features], y_test)\n",
    "print(przykladowe_rss)\n",
    "przykladowe_rss = policz_SSE(model2, X_test[model_2_features], y_test)\n",
    "print(przykladowe_rss) \n",
    "przykladowe_rss = policz_SSE(model3, X_test[model_3_features], y_test)\n",
    "print(przykladowe_rss) \n"
   ]
  },
  {
   "cell_type": "markdown",
   "metadata": {},
   "source": [
    "**Quiz: Który model (1, 2 lub 3) ma najniższy poziom SSE na danych TESTOWYCH?** Czy tego się spodziewałeś/-łaś? Pomyśl o cechach, które zostały dodane do każdego z modeli."
   ]
  },
  {
   "cell_type": "markdown",
   "metadata": {},
   "source": [
    "Zgodnie z przewidywaniami, najmniejszy błąd ma model 3, czego się można było spodziewać, bo bierze pod uwagę najwięcej cech, które są ze sobą sensownie powiązane"
   ]
  },
  {
   "cell_type": "markdown",
   "metadata": {
    "collapsed": true
   },
   "source": [
    "# Policz pochodną"
   ]
  },
  {
   "cell_type": "markdown",
   "metadata": {},
   "source": [
    "Przejdziemy teraz do obliczania pochodnej funkcji kosztu regresji. Przypomnij sobie, że funkcja kosztu jest sumą kwadratów różnic między punktami danych a przewidywanym wynikiem.\n",
    "\n",
    "Ponieważ pochodna sumy jest sumą pochodnych, możemy obliczyć pochodną dla pojedynczego punktu danych, a następnie zsumować na podstawie punktów danych. Możemy zapisać kwadratową różnicę między obserwowanym a przewidywanym wynikiem dla pojedynczego punktu w następujący sposób:\n",
    "\n",
    "(w[0]\\*[CONSTANT] + w[1]\\*[cecha_1] + ... + w[i] \\*[cecha_i] + ... +  w[k]\\*[cecha_k] - output)^2\n",
    "\n",
    "Gdzie mamy *k* cech i stałą. Tak więc pochodną w odniesieniu do wagi w[i] według reguły łańcucha jest:\n",
    "\n",
    "2\\*(w[0]\\*[CONSTANT] + w[1]\\*[cecha_1] + ... + w[i] \\*[cecha_i] + ... +  w[k]\\*[cecha_k] - output)\\* [cecha_i]\n",
    "\n",
    "Pojęcie w nawiasach to tylko błąd (różnica między prognozowaniem a wyjściem). Możemy więc ponownie napisać to jako:\n",
    "\n",
    "2\\*error\\*[cecha_i]\n",
    "\n",
    "Oznacza to, że pochodną wagi cechy *i* jest suma (ponad punkty danych) 2-krotności iloczynu błędu i samej cechy. W przypadku stałej jest to tylko dwukrotność sumy błędów!\n",
    "\n",
    "Przypomnijmy, że dwukrotność sumy iloczynu dwóch wektorów jest tylko dwukrotnością iloczynu dwóch wektorów. Dlatego pochodna wagi dla *cechy_i* jest tylko dwukrotnością iloczynu między wartościami *cechy_i* a bieżącymi błędami.\n",
    "\n",
    "Mając to na uwadze, należy napisać następującą funkcję liczącą pochodną, która oblicza pochodną współczynnika na podstawie wartości cechy (we wszystkich punktach danych) i błędów (we wszystkich punktach danych)."
   ]
  },
  {
   "cell_type": "code",
   "execution_count": 22,
   "metadata": {},
   "outputs": [],
   "source": [
    "def feature_derivative(errors, feature):\n",
    "    # Oblicz podwojony iloczyn cech i błędów, a następnie zwróć otrzymną wartość\n",
    "    derivative = 2*np.sum(errors)*feature\n",
    "    return(derivative)"
   ]
  },
  {
   "cell_type": "markdown",
   "metadata": {},
   "source": [
    "# Metoda spadku gradientu / gradientu prostego (Gradient Descent)"
   ]
  },
  {
   "cell_type": "markdown",
   "metadata": {},
   "source": [
    "Teraz napiszemy funkcję, która wykonuje spadek gradientu. Biorąc pod uwagę punkt początkowy, aktualizujemy bieżące wagi, przesuwając się w kierunku ujemnego gradientu. Przypomnijmy, że gradient jest kierunkiem *wzrostu*, a zatem gradient ujemny jest kierunkiem *spadku* i staramy się *zminimalizować* funkcję kosztu.\n",
    "\n",
    "Współczynnik, z jakim poruszamy się w kierunku gradientu ujemnego, nazywa się „rozmiarem kroku” - $\\alpha$. Zatrzymujemy się, gdy jesteśmy „wystarczająco blisko” do rozwiązania optymalnego. Definiujemy to, wymagając, aby wielkość (długość) wektora gradientu była mniejsza niż stała „tolerancja” - $\\epsilon$.\n",
    "\n",
    "Mając to na uwadze, wykonaj poniższą funkcję spadku gradientu poniżej, używając powyższej funkcji pochodnej. Dla każdego kroku zejścia gradientu aktualizujemy wagę każdej funkcji przed obliczeniem naszych kryteriów zatrzymania"
   ]
  },
  {
   "cell_type": "code",
   "execution_count": 23,
   "metadata": {},
   "outputs": [],
   "source": [
    "from math import sqrt # wywołanie funkcji na wektorze [g[0], g[1], g[2]] daje sqrt(g[0]^2 + g[1]^2 + g[2]^2)"
   ]
  },
  {
   "cell_type": "code",
   "execution_count": 24,
   "metadata": {},
   "outputs": [],
   "source": [
    "import numpy as np"
   ]
  },
  {
   "cell_type": "code",
   "execution_count": 25,
   "metadata": {},
   "outputs": [],
   "source": [
    "def regression_gradient_descent(feature_matrix, output, initial_weights, step_size, tolerance):\n",
    "    converged = False \n",
    "    weights = np.array(initial_weights) # miej pewność, że wagi są typu numpy array\n",
    "    while not converged:\n",
    "        # obliczyć prognozy na podstawie feature_matrix i wag za pomocą funkcji predict_output()\n",
    "        predictions = predict_output(weights, feature_matrix)\n",
    "\n",
    "        # wylicz błąd predykcji jako: predict_output - output\n",
    "        err = predictions-output\n",
    "\n",
    "        gradient_sum_squares = 0 # inicjuj sumę pierwiastków gradientów\n",
    "        # chociaż nie osiągnęliśmy jeszcze tolerancji, zaktualizuj wagę każdej funkcji\n",
    "        for i in range(len(weights)): # zapętlenie każdej wagi\n",
    "            # Przypomnij sobie, że feature_matrix [:, i] to kolumna cech powiązana z wagami[i]\n",
    "            # obliczyć pochodną dla wagi[i]:\n",
    "            derivative=feature_derivative(err, weights[i])\n",
    "            \n",
    "            # dodaj kwadrat wartości pochodnej do sumy kwadratów gradientów (ocena zbieżności)\n",
    "            gradient_sum_squares+=derivative*derivative\n",
    "\n",
    "            # odejmij wielkość kroku pomnożoną przez pochodną od bieżącej wagi\n",
    "            weights[i]-=step_size*derivative\n",
    "            \n",
    "        # oblicz pierwiastek kwadratowy z sumy gradientów kwadratów, aby uzyskać wielkość gradientu:\n",
    "        gradient_magnitude = sqrt(gradient_sum_squares)\n",
    "        if gradient_magnitude < tolerance:\n",
    "            converged = True\n",
    "    return(weights)"
   ]
  },
  {
   "cell_type": "markdown",
   "metadata": {},
   "source": [
    "Kilka rzeczy, na które należy zwrócić uwagę, zanim zaczniemy korzystać z metody spadku gradientu. Ponieważ gradient jest sumą wszystkich punktów danych i obejmuje iloczyn błędu i wartości cechy, sam gradient będzie bardzo duży, ponieważ cechy są duże (stopy kwadratowe), a wynik jest duży (ceny). Tak więc, chociaż można oczekiwać, że „tolerancja” będzie niewielka, mała jest jedynie zależna od wielkości cechy.\n",
    "\n",
    "Z podobnych powodów rozmiar kroku będzie znacznie mniejszy niż można się spodziewać, ale dzieje się tak, ponieważ gradient ma tak duże wartości."
   ]
  },
  {
   "cell_type": "markdown",
   "metadata": {},
   "source": [
    "# Uruchamianie spadku gradientu jako prostej regresji"
   ]
  },
  {
   "cell_type": "markdown",
   "metadata": {},
   "source": [
    "Chociaż metoda spadku gradientu jest zaprojektowane dla regresji wielorakiej, ponieważ stała jest teraz funkcją, możemy użyć funkcji spadku gradientu do oszacowania parametrów prostej regresji na \"squarefeet\". Następująca komórka ustawia funkcję parametr_macierz, wynik, wagi początkowe i rozmiar kroku dla pierwszego modelu:"
   ]
  },
  {
   "cell_type": "code",
   "execution_count": 33,
   "metadata": {},
   "outputs": [],
   "source": [
    "import time\n",
    "def get_numpy_data(train_data, simple_features, my_output):\n",
    "    output = np.array(train_data[my_output])\n",
    "    simple_feature_matrix = np.array(train_data[simple_features])\n",
    "    return simple_feature_matrix, output"
   ]
  },
  {
   "cell_type": "code",
   "execution_count": 34,
   "metadata": {},
   "outputs": [],
   "source": [
    "# test spadku gradientów\n",
    "simple_features = ['sqft_living']\n",
    "my_output = 'price'\n",
    "train_data = pd.concat([X_train, y_train], axis=1)\n",
    "(simple_feature_matrix, output) = get_numpy_data(train_data, simple_features, my_output)\n",
    "initial_weights = np.array([1.])\n",
    "step_size = 7e-12\n",
    "tolerance = 2.5e7"
   ]
  },
  {
   "cell_type": "markdown",
   "metadata": {},
   "source": [
    "Następnie uruchom gradient z powyższymi parametrami."
   ]
  },
  {
   "cell_type": "code",
   "execution_count": 35,
   "metadata": {},
   "outputs": [
    {
     "name": "stdout",
     "output_type": "stream",
     "text": [
      "Czas wykonania: 0.005425214767456055 sekund\n",
      "[260.78]\n"
     ]
    }
   ],
   "source": [
    "start = time.time()\n",
    "w = regression_gradient_descent(simple_feature_matrix, output, initial_weights, step_size, tolerance)\n",
    "end = time.time()\n",
    "\n",
    "elapsed = end - start\n",
    "print(f\"Czas wykonania: {elapsed} sekund\")\n",
    "\n",
    "print(np.round(w,2))"
   ]
  },
  {
   "cell_type": "markdown",
   "metadata": {},
   "source": [
    "Porównaj wagi do tych uzyskanych przy pomocy pseudoodwrotności?\n",
    "\n",
    "**Pytanie quizu: Jaka jest waga sqft_living - drugi element „simple_weights” (w zaokrągleniu do 1 miejsca po przecinku)?**"
   ]
  },
  {
   "cell_type": "code",
   "execution_count": 29,
   "metadata": {},
   "outputs": [
    {
     "name": "stdout",
     "output_type": "stream",
     "text": [
      "[264.6]\n"
     ]
    }
   ],
   "source": [
    "print(np.round(np.linalg.pinv(simple_feature_matrix).dot(output),2))"
   ]
  },
  {
   "cell_type": "markdown",
   "metadata": {},
   "source": [
    "Obie wagi są do siebie niesamowicie zbliżone; ich różnica jest na poziomie niecałych 2%"
   ]
  },
  {
   "cell_type": "markdown",
   "metadata": {},
   "source": [
    "Zobacz jak się zachowuje metoda gradientowa po przeskalowaniu wartości cech:"
   ]
  },
  {
   "cell_type": "code",
   "execution_count": 30,
   "metadata": {},
   "outputs": [],
   "source": [
    "\n",
    "from sklearn.preprocessing import MinMaxScaler\n",
    "\n",
    "X_train = X_train[simple_features]\n",
    "X_train_norm = (X_train-X_train.min())/(X_train.max()-X_train.min())\n",
    "\n",
    "train_data = pd.concat([X_train_norm, y_train], axis=1)\n",
    "(simple_feature_matrix, output) = get_numpy_data(train_data, simple_features, my_output)\n",
    "initial_weights = np.array([1.])"
   ]
  },
  {
   "cell_type": "code",
   "execution_count": 39,
   "metadata": {
    "scrolled": true
   },
   "outputs": [
    {
     "name": "stdout",
     "output_type": "stream",
     "text": [
      "Czas wykonania: 0.043436527252197266 sekund\n",
      "[260.78]\n"
     ]
    }
   ],
   "source": [
    "step_size = 7e-13\n",
    "\n",
    "start = time.time()\n",
    "w = regression_gradient_descent(simple_feature_matrix, output, initial_weights, step_size, tolerance)\n",
    "end = time.time()\n",
    "\n",
    "elapsed = end - start\n",
    "print(f\"Czas wykonania: {elapsed} sekund\")\n",
    "\n",
    "print(np.round(w,2))"
   ]
  },
  {
   "cell_type": "markdown",
   "metadata": {},
   "source": [
    "Jak widać powyżej, otrzymany współczynnik jest wielokrtonie większy od wcześniej otrzymanego, co jest zgodne ze spodziewaniami. Dodatkowo, warto zauważyć, że bardzo istotna jest wielkość pojedynczego kroku - dla kroku zbyt dużego program nigdy nie skończy działania. Przykładem takiego zbyt dużego kroku jest 7e-12. Dla mniejszego kroku, program będzie się wykonywał statystycznie dłużej niż dla metody gradientowej bez przeskalowania."
   ]
  }
 ],
 "metadata": {
  "kernelspec": {
   "display_name": "Python 3 (ipykernel)",
   "language": "python",
   "name": "python3"
  },
  "language_info": {
   "codemirror_mode": {
    "name": "ipython",
    "version": 3
   },
   "file_extension": ".py",
   "mimetype": "text/x-python",
   "name": "python",
   "nbconvert_exporter": "python",
   "pygments_lexer": "ipython3",
   "version": "3.11.5"
  }
 },
 "nbformat": 4,
 "nbformat_minor": 1
}
