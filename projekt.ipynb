{
 "cells": [
  {
   "cell_type": "code",
   "execution_count": 1,
   "id": "ea8103cf-d176-47ec-8030-257f77d624f2",
   "metadata": {},
   "outputs": [],
   "source": [
    "import math \n",
    "import matplotlib.pyplot as plt \n",
    "import pandas as pd\n",
    "import numpy as np\n",
    "from sklearn.linear_model import Ridge\n",
    "from sklearn.linear_model import LinearRegression\n",
    "from sklearn.datasets import make_regression\n",
    "from sklearn.model_selection import train_test_split\n",
    "from sklearn.model_selection import cross_val_score\n",
    "from sklearn.model_selection import cross_validate\n",
    "from sklearn.metrics import mean_squared_error\n",
    "import pandas as pd"
   ]
  },
  {
   "cell_type": "code",
   "execution_count": 2,
   "id": "7f5e9996-112a-40aa-bc79-0e615b8bbe3d",
   "metadata": {},
   "outputs": [],
   "source": [
    "dtype_dict = {'Title':str, 'Geek Rating':float, 'Avg rating':float, 'Num of voters':int, 'Price':float, 'Year':str, 'Complexity':float, 'Min players':float, 'Max players':float, 'Min time':float, 'Max time':float, 'Age':float, 'Type 1':str, 'Type 2':str}\n",
    "data = pd.read_csv('bg_info.csv', dtype=dtype_dict)"
   ]
  },
  {
   "cell_type": "code",
   "execution_count": 10,
   "id": "12e66ed8-9dae-41ae-aced-53c02921a144",
   "metadata": {},
   "outputs": [],
   "source": [
    "from math import log, sqrt\n",
    "data['Geek_square'] = data['Geek Rating']*data['Geek Rating']\n",
    "data['Complexity_square'] = data['Complexity']*data['Complexity']\n",
    "data['Complexity_Geek'] = data['Complexity']*data['Geek Rating']\n",
    "data['Rating_sqrt'] = data['Avg rating'].apply(sqrt)\n",
    "data['Rating_Geek'] = data['Avg rating']*data['Geek Rating']"
   ]
  },
  {
   "cell_type": "code",
   "execution_count": 11,
   "id": "c61ec84a-c3eb-419e-ad02-60a6d4fe639d",
   "metadata": {},
   "outputs": [],
   "source": [
    "X = data.drop(columns = ['Num of voters', 'Title', 'Type 1', 'Type 2', 'Year'])\n",
    "y = data['Num of voters']\n",
    "X = X.dropna()\n",
    "y = y.loc[X.index]\n",
    "X_train, X_test, y_train, y_test = train_test_split(X, y, test_size=0.2, random_state=1)"
   ]
  },
  {
   "cell_type": "code",
   "execution_count": 12,
   "id": "7e120806-b32c-43d2-90ca-415fcaaf0fa2",
   "metadata": {},
   "outputs": [
    {
     "name": "stdout",
     "output_type": "stream",
     "text": [
      "1 cech: ['Geek_square'], R^2 testowy: 0.4151\n",
      "2 cech: ['Geek_square', 'Geek Rating'], R^2 testowy: 0.4829\n",
      "3 cech: ['Geek_square', 'Geek Rating', 'Complexity_Geek'], R^2 testowy: 0.5059\n",
      "4 cech: ['Geek_square', 'Geek Rating', 'Complexity_Geek', 'Complexity'], R^2 testowy: 0.5430\n",
      "5 cech: ['Geek_square', 'Geek Rating', 'Complexity_Geek', 'Complexity', 'Rating_Geek'], R^2 testowy: 0.5537\n",
      "6 cech: ['Geek_square', 'Geek Rating', 'Complexity_Geek', 'Complexity', 'Rating_Geek', 'Avg rating'], R^2 testowy: 0.6197\n",
      "7 cech: ['Geek_square', 'Geek Rating', 'Complexity_Geek', 'Complexity', 'Rating_Geek', 'Avg rating', 'Rating_sqrt'], R^2 testowy: 0.6261\n",
      "8 cech: ['Geek_square', 'Geek Rating', 'Complexity_Geek', 'Complexity', 'Rating_Geek', 'Avg rating', 'Rating_sqrt', 'Complexity_square'], R^2 testowy: 0.6265\n",
      "9 cech: ['Geek_square', 'Geek Rating', 'Complexity_Geek', 'Complexity', 'Rating_Geek', 'Avg rating', 'Rating_sqrt', 'Complexity_square', 'Max players'], R^2 testowy: 0.6266\n",
      "10 cech: ['Geek_square', 'Geek Rating', 'Complexity_Geek', 'Complexity', 'Rating_Geek', 'Avg rating', 'Rating_sqrt', 'Complexity_square', 'Max players', 'Age'], R^2 testowy: 0.6266\n",
      "11 cech: ['Geek_square', 'Geek Rating', 'Complexity_Geek', 'Complexity', 'Rating_Geek', 'Avg rating', 'Rating_sqrt', 'Complexity_square', 'Max players', 'Age', 'Max time'], R^2 testowy: 0.6266\n",
      "12 cech: ['Geek_square', 'Geek Rating', 'Complexity_Geek', 'Complexity', 'Rating_Geek', 'Avg rating', 'Rating_sqrt', 'Complexity_square', 'Max players', 'Age', 'Max time', 'Min players'], R^2 testowy: 0.6265\n",
      "13 cech: ['Geek_square', 'Geek Rating', 'Complexity_Geek', 'Complexity', 'Rating_Geek', 'Avg rating', 'Rating_sqrt', 'Complexity_square', 'Max players', 'Age', 'Max time', 'Min players', 'Price'], R^2 testowy: 0.6264\n",
      "14 cech: ['Geek_square', 'Geek Rating', 'Complexity_Geek', 'Complexity', 'Rating_Geek', 'Avg rating', 'Rating_sqrt', 'Complexity_square', 'Max players', 'Age', 'Max time', 'Min players', 'Price', 'Min time'], R^2 testowy: 0.6262\n"
     ]
    }
   ],
   "source": [
    "features = ['Geek Rating', 'Avg rating', 'Price', 'Complexity', 'Min players', \n",
    "            'Max players', 'Min time', 'Max time', 'Age', 'Geek_square', 'Complexity_square', 'Complexity_Geek', 'Rating_sqrt', 'Rating_Geek']\n",
    "\n",
    "selected_features = []\n",
    "remaining_features = features.copy()\n",
    "test_r2_scores = []\n",
    "feature_sets = []\n",
    "\n",
    "\n",
    "lr = LinearRegression()\n",
    "\n",
    "while remaining_features:\n",
    "    scores = []\n",
    "    for feature in remaining_features:\n",
    "        # Aktualne cechy\n",
    "        current_features = selected_features + [feature]\n",
    "\n",
    "        # Dane z wybranymi cechami\n",
    "        X2 = X_train[current_features]\n",
    "        y2 = y_train\n",
    "\n",
    "        # Obliczanie współczynnika determinacji R^2\n",
    "        r2_scores = cross_val_score(lr, X2, y2, cv=5, scoring='r2')\n",
    "        mean_r2 = np.mean(r2_scores)\n",
    "        scores.append(mean_r2)\n",
    "\n",
    "    # Wybór najlepszej cechy\n",
    "    max_r2 = max(scores)\n",
    "    best_feature = remaining_features[scores.index(max_r2)]\n",
    "\n",
    "    selected_features.append(best_feature)\n",
    "    remaining_features.remove(best_feature)\n",
    "    test_r2_scores.append(max_r2)\n",
    "    feature_sets.append(selected_features.copy())\n",
    "\n",
    "# Wyświetlenie wyników\n",
    "for i, (features_set, r2) in enumerate(zip(feature_sets, test_r2_scores)):\n",
    "    print(f\"{i+1} cech: {features_set}, R^2 testowy: {r2:.4f}\")"
   ]
  },
  {
   "cell_type": "code",
   "execution_count": null,
   "id": "b5d6b462-620c-41b6-92d4-45d96a3f3cd9",
   "metadata": {},
   "outputs": [],
   "source": []
  }
 ],
 "metadata": {
  "kernelspec": {
   "display_name": "Python 3 (ipykernel)",
   "language": "python",
   "name": "python3"
  },
  "language_info": {
   "codemirror_mode": {
    "name": "ipython",
    "version": 3
   },
   "file_extension": ".py",
   "mimetype": "text/x-python",
   "name": "python",
   "nbconvert_exporter": "python",
   "pygments_lexer": "ipython3",
   "version": "3.13.0"
  }
 },
 "nbformat": 4,
 "nbformat_minor": 5
}
