{
 "cells": [
  {
   "cell_type": "code",
   "execution_count": 5,
   "id": "ea8103cf-d176-47ec-8030-257f77d624f2",
   "metadata": {},
   "outputs": [],
   "source": [
    "import math \n",
    "import matplotlib.pyplot as plt \n",
    "import pandas as pd\n",
    "import numpy as np\n",
    "from sklearn.linear_model import Ridge\n",
    "from sklearn.linear_model import LinearRegression\n",
    "from sklearn.datasets import make_regression\n",
    "from sklearn.model_selection import train_test_split\n",
    "from sklearn.model_selection import cross_val_score\n",
    "from sklearn.model_selection import cross_validate\n",
    "from sklearn.metrics import mean_squared_error\n",
    "import pandas as pd"
   ]
  },
  {
   "cell_type": "code",
   "execution_count": 18,
   "id": "7f5e9996-112a-40aa-bc79-0e615b8bbe3d",
   "metadata": {},
   "outputs": [],
   "source": [
    "dtype_dict = {'Title':str, 'Geek Rating':float, 'Avg rating':float, 'Num of voters':int, 'Price':float, 'Year':str, 'Complexity':float, 'Min players':float, 'Max players':float, 'Min time':float, 'Max time':float, 'Age':float, 'Type 1':str, 'Type 2':str}\n",
    "data = pd.read_csv('bg_info.csv', dtype=dtype_dict)"
   ]
  },
  {
   "cell_type": "code",
   "execution_count": 21,
   "id": "c61ec84a-c3eb-419e-ad02-60a6d4fe639d",
   "metadata": {},
   "outputs": [],
   "source": [
    "X = data.drop(columns = ['Num of voters', 'Title', 'Type 1', 'Type 2', 'Year'])\n",
    "y = data['Num of voters']\n",
    "X = X.dropna()\n",
    "y = y.loc[X.index]\n",
    "X_train, X_test, y_train, y_test = train_test_split(X, y, test_size=0.2, random_state=1)"
   ]
  },
  {
   "cell_type": "code",
   "execution_count": 22,
   "id": "7e120806-b32c-43d2-90ca-415fcaaf0fa2",
   "metadata": {},
   "outputs": [
    {
     "name": "stdout",
     "output_type": "stream",
     "text": [
      "Liczność  Zbiór cech                                                            Błąd CV             \n",
      "0         Wyraz wolny                                                           73994222.4536       \n",
      "1         Geek Rating                                                           44925214.4935       \n",
      "2         Geek Rating, Avg rating                                               42123266.6010       \n",
      "3         Geek Rating, Avg rating, Complexity                                   41746652.7937       \n",
      "4         Geek Rating, Avg rating, Complexity, Min players                      41610284.8750       \n",
      "5         Geek Rating, Avg rating, Price, Complexity, Min players               41478736.8609       \n",
      "6         Geek Rating, Avg rating, Price, Complexity, Min players, Min time     41446647.5826       \n"
     ]
    }
   ],
   "source": [
    "from itertools import combinations\n",
    "lr = LinearRegression()\n",
    "features = ['Geek Rating', 'Avg rating', 'Price', 'Complexity', 'Min players', \n",
    "            'Max players', 'Min time', 'Max time', 'Age']\n",
    "\n",
    "selected_features = []\n",
    "remaining_features = features.copy()\n",
    "test_errors = []\n",
    "feature_sets = []\n",
    "\n",
    "lr = LinearRegression()\n",
    "\n",
    "while remaining_features:\n",
    "    errors = []\n",
    "    for feature in remaining_features:\n",
    "        current_features = selected_features + [feature]\n",
    "\n",
    "        X2 = X_train[current_features]\n",
    "        y2 = y_train\n",
    "\n",
    "        scores = cross_val_score(lr, X2, y2, cv=5, scoring='neg_mean_squared_error')\n",
    "        error = -np.mean(scores)\n",
    "        errors.append(error)\n",
    "\n",
    "    min_error = min(errors)\n",
    "    best_feature = remaining_features[errors.index(min_error)]\n",
    "\n",
    "    selected_features.append(best_feature)\n",
    "    remaining_features.remove(best_feature)\n",
    "    test_errors.append(min_error)\n",
    "    feature_sets.append(selected_features.copy())\n",
    "\n",
    "for i, (features_set, error) in enumerate(zip(feature_sets, test_errors)):\n",
    "    print(f\"{i+1} cech: {features_set}, Błąd testowy: {error:.2f}\")"
   ]
  },
  {
   "cell_type": "code",
   "execution_count": null,
   "id": "b5d6b462-620c-41b6-92d4-45d96a3f3cd9",
   "metadata": {},
   "outputs": [],
   "source": []
  }
 ],
 "metadata": {
  "kernelspec": {
   "display_name": "Python 3 (ipykernel)",
   "language": "python",
   "name": "python3"
  },
  "language_info": {
   "codemirror_mode": {
    "name": "ipython",
    "version": 3
   },
   "file_extension": ".py",
   "mimetype": "text/x-python",
   "name": "python",
   "nbconvert_exporter": "python",
   "pygments_lexer": "ipython3",
   "version": "3.13.0"
  }
 },
 "nbformat": 4,
 "nbformat_minor": 5
}
